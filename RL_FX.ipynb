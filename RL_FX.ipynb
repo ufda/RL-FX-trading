{
  "nbformat": 4,
  "nbformat_minor": 0,
  "metadata": {
    "colab": {
      "name": "sample.ipynb",
      "provenance": [],
      "collapsed_sections": [],
      "authorship_tag": "ABX9TyMoYVkG7VdpvISvz2r+9+WN",
      "include_colab_link": true
    },
    "kernelspec": {
      "name": "python3",
      "display_name": "Python 3"
    },
    "language_info": {
      "name": "python"
    },
    "accelerator": "GPU"
  },
  "cells": [
    {
      "cell_type": "markdown",
      "metadata": {
        "id": "view-in-github",
        "colab_type": "text"
      },
      "source": [
        "<a href=\"https://colab.research.google.com/github/ufda/RL-FX-trading/blob/main/RL_FX.ipynb\" target=\"_parent\"><img src=\"https://colab.research.google.com/assets/colab-badge.svg\" alt=\"Open In Colab\"/></a>"
      ]
    },
    {
      "cell_type": "code",
      "metadata": {
        "colab": {
          "base_uri": "https://localhost:8080/"
        },
        "id": "KozDJxJqbdUi",
        "outputId": "c9516adb-05eb-477c-e52e-79ee0990757f"
      },
      "source": [
        "!pip install stable_baselines3"
      ],
      "execution_count": null,
      "outputs": [
        {
          "output_type": "stream",
          "text": [
            "Collecting stable_baselines3\n",
            "  Downloading stable_baselines3-1.1.0-py3-none-any.whl (172 kB)\n",
            "\u001b[?25l\r\u001b[K     |██                              | 10 kB 23.2 MB/s eta 0:00:01\r\u001b[K     |███▉                            | 20 kB 9.8 MB/s eta 0:00:01\r\u001b[K     |█████▊                          | 30 kB 8.1 MB/s eta 0:00:01\r\u001b[K     |███████▋                        | 40 kB 7.5 MB/s eta 0:00:01\r\u001b[K     |█████████▌                      | 51 kB 4.1 MB/s eta 0:00:01\r\u001b[K     |███████████▍                    | 61 kB 4.3 MB/s eta 0:00:01\r\u001b[K     |█████████████▎                  | 71 kB 4.3 MB/s eta 0:00:01\r\u001b[K     |███████████████▏                | 81 kB 4.9 MB/s eta 0:00:01\r\u001b[K     |█████████████████               | 92 kB 5.0 MB/s eta 0:00:01\r\u001b[K     |███████████████████             | 102 kB 4.1 MB/s eta 0:00:01\r\u001b[K     |████████████████████▉           | 112 kB 4.1 MB/s eta 0:00:01\r\u001b[K     |██████████████████████▉         | 122 kB 4.1 MB/s eta 0:00:01\r\u001b[K     |████████████████████████▊       | 133 kB 4.1 MB/s eta 0:00:01\r\u001b[K     |██████████████████████████▋     | 143 kB 4.1 MB/s eta 0:00:01\r\u001b[K     |████████████████████████████▌   | 153 kB 4.1 MB/s eta 0:00:01\r\u001b[K     |██████████████████████████████▍ | 163 kB 4.1 MB/s eta 0:00:01\r\u001b[K     |████████████████████████████████| 172 kB 4.1 MB/s \n",
            "\u001b[?25hRequirement already satisfied: cloudpickle in /usr/local/lib/python3.7/dist-packages (from stable_baselines3) (1.3.0)\n",
            "Requirement already satisfied: numpy in /usr/local/lib/python3.7/dist-packages (from stable_baselines3) (1.19.5)\n",
            "Requirement already satisfied: gym>=0.17 in /usr/local/lib/python3.7/dist-packages (from stable_baselines3) (0.17.3)\n",
            "Requirement already satisfied: matplotlib in /usr/local/lib/python3.7/dist-packages (from stable_baselines3) (3.2.2)\n",
            "Requirement already satisfied: torch>=1.4.0 in /usr/local/lib/python3.7/dist-packages (from stable_baselines3) (1.9.0+cu102)\n",
            "Requirement already satisfied: pandas in /usr/local/lib/python3.7/dist-packages (from stable_baselines3) (1.1.5)\n",
            "Requirement already satisfied: pyglet<=1.5.0,>=1.4.0 in /usr/local/lib/python3.7/dist-packages (from gym>=0.17->stable_baselines3) (1.5.0)\n",
            "Requirement already satisfied: scipy in /usr/local/lib/python3.7/dist-packages (from gym>=0.17->stable_baselines3) (1.4.1)\n",
            "Requirement already satisfied: future in /usr/local/lib/python3.7/dist-packages (from pyglet<=1.5.0,>=1.4.0->gym>=0.17->stable_baselines3) (0.16.0)\n",
            "Requirement already satisfied: typing-extensions in /usr/local/lib/python3.7/dist-packages (from torch>=1.4.0->stable_baselines3) (3.7.4.3)\n",
            "Requirement already satisfied: cycler>=0.10 in /usr/local/lib/python3.7/dist-packages (from matplotlib->stable_baselines3) (0.10.0)\n",
            "Requirement already satisfied: python-dateutil>=2.1 in /usr/local/lib/python3.7/dist-packages (from matplotlib->stable_baselines3) (2.8.1)\n",
            "Requirement already satisfied: pyparsing!=2.0.4,!=2.1.2,!=2.1.6,>=2.0.1 in /usr/local/lib/python3.7/dist-packages (from matplotlib->stable_baselines3) (2.4.7)\n",
            "Requirement already satisfied: kiwisolver>=1.0.1 in /usr/local/lib/python3.7/dist-packages (from matplotlib->stable_baselines3) (1.3.1)\n",
            "Requirement already satisfied: six in /usr/local/lib/python3.7/dist-packages (from cycler>=0.10->matplotlib->stable_baselines3) (1.15.0)\n",
            "Requirement already satisfied: pytz>=2017.2 in /usr/local/lib/python3.7/dist-packages (from pandas->stable_baselines3) (2018.9)\n",
            "Installing collected packages: stable-baselines3\n",
            "Successfully installed stable-baselines3-1.1.0\n"
          ],
          "name": "stdout"
        }
      ]
    },
    {
      "cell_type": "code",
      "metadata": {
        "id": "YrDoifr8cgH_",
        "colab": {
          "base_uri": "https://localhost:8080/"
        },
        "outputId": "2c0d6b48-ed7b-4eba-81a7-e9fdab0ff949"
      },
      "source": [
        "!nvidia-smi"
      ],
      "execution_count": null,
      "outputs": [
        {
          "output_type": "stream",
          "text": [
            "NVIDIA-SMI has failed because it couldn't communicate with the NVIDIA driver. Make sure that the latest NVIDIA driver is installed and running.\n",
            "\n"
          ],
          "name": "stdout"
        }
      ]
    },
    {
      "cell_type": "markdown",
      "metadata": {
        "id": "0NnpX9hgN8wl"
      },
      "source": [
        "###**Execute following code to prevent Random Disconnects**\n"
      ]
    },
    {
      "cell_type": "code",
      "metadata": {
        "id": "VYbn0HnxnDHi",
        "colab": {
          "base_uri": "https://localhost:8080/",
          "height": 34
        },
        "outputId": "d459b425-b017-4356-cb91-fcc3298cd8dd"
      },
      "source": [
        "import IPython\n",
        "display(IPython.display.Javascript('''\n",
        "  function reconnect()\n",
        "  {\n",
        "    console.log(\"Script Working\");\n",
        "    btn = document.querySelector(\"colab-connect-button\");\n",
        "    if (btn != null)\n",
        "    {\n",
        "      console.log(\"Working Clicking Reconnect Button 1\");\n",
        "      btn.click();\n",
        "    }\n",
        "    btn = document.getElementById('ok');\n",
        "    if (btn != null)\n",
        "    {\n",
        "      console.log(\"Working Clicking Reconnect Button 1\");\n",
        "      btn.click();\n",
        "    }\n",
        "  }\n",
        "  setInterval(reconnect, 5000);\n",
        "'''))\n",
        "\n",
        "print (\"Finished\")"
      ],
      "execution_count": null,
      "outputs": [
        {
          "output_type": "display_data",
          "data": {
            "application/javascript": [
              "\n",
              "  function reconnect()\n",
              "  {\n",
              "    console.log(\"Script Working\");\n",
              "    btn = document.querySelector(\"colab-connect-button\");\n",
              "    if (btn != null)\n",
              "    {\n",
              "      console.log(\"Working Clicking Reconnect Button 1\");\n",
              "      btn.click();\n",
              "    }\n",
              "    btn = document.getElementById('ok');\n",
              "    if (btn != null)\n",
              "    {\n",
              "      console.log(\"Working Clicking Reconnect Button 1\");\n",
              "      btn.click();\n",
              "    }\n",
              "  }\n",
              "  setInterval(reconnect, 5000);\n"
            ],
            "text/plain": [
              "<IPython.core.display.Javascript object>"
            ]
          },
          "metadata": {
            "tags": []
          }
        },
        {
          "output_type": "stream",
          "text": [
            "Finished\n"
          ],
          "name": "stdout"
        }
      ]
    },
    {
      "cell_type": "code",
      "metadata": {
        "id": "q8BkJROCA33M",
        "colab": {
          "base_uri": "https://localhost:8080/"
        },
        "outputId": "7d89c056-cf4a-48f1-aba4-c39791b9eb36"
      },
      "source": [
        "from google.colab import drive\n",
        "drive.mount('/content/drive', force_remount=True)\n"
      ],
      "execution_count": null,
      "outputs": [
        {
          "output_type": "stream",
          "text": [
            "Mounted at /content/drive\n"
          ],
          "name": "stdout"
        }
      ]
    },
    {
      "cell_type": "code",
      "metadata": {
        "id": "4g5tW612CE1U",
        "colab": {
          "base_uri": "https://localhost:8080/"
        },
        "outputId": "35c7adf0-b617-42b5-8ad3-608bc335f92d"
      },
      "source": [
        "%cd \"drive\"\n",
        "%cd \"My Drive\"\n",
        "%cd \"RL_FX\""
      ],
      "execution_count": null,
      "outputs": [
        {
          "output_type": "stream",
          "text": [
            "/content/drive\n",
            "/content/drive/My Drive\n",
            "/content/drive/My Drive/RL_FX\n"
          ],
          "name": "stdout"
        }
      ]
    },
    {
      "cell_type": "code",
      "metadata": {
        "id": "WW7uMoMdDN02",
        "colab": {
          "base_uri": "https://localhost:8080/"
        },
        "outputId": "24b2720d-3a5f-445b-c6c0-38c6b796bfd3"
      },
      "source": [
        "!git clone https://github.com/ufda/RL-FX-trading\n",
        "#%cd DFL-Colab-Shraeyas\n",
        "#!pip install -r requirements-colab.txt\n",
        "#!echo \"Done.\""
      ],
      "execution_count": null,
      "outputs": [
        {
          "output_type": "stream",
          "text": [
            "Cloning into 'RL-FX-trading'...\n",
            "remote: Enumerating objects: 88, done.\u001b[K\n",
            "remote: Counting objects: 100% (88/88), done.\u001b[K\n",
            "remote: Compressing objects: 100% (78/78), done.\u001b[K\n",
            "remote: Total 88 (delta 22), reused 0 (delta 0), pack-reused 0\u001b[K\n",
            "Unpacking objects: 100% (88/88), done.\n"
          ],
          "name": "stdout"
        }
      ]
    },
    {
      "cell_type": "code",
      "metadata": {
        "colab": {
          "base_uri": "https://localhost:8080/"
        },
        "id": "VkpBc4d2V0lP",
        "outputId": "216556cf-e974-4ac1-dd2c-280789f6137c"
      },
      "source": [
        "%cd \"data\"\n",
        "%ls\n"
      ],
      "execution_count": null,
      "outputs": [
        {
          "output_type": "stream",
          "text": [
            "/content/drive/My Drive/RL_FX/data\n",
            "episode-0-trained-agent.h5  episode-1-trained-agent.h5  EU_M5_2017_2020.csv\n"
          ],
          "name": "stdout"
        }
      ]
    },
    {
      "cell_type": "code",
      "metadata": {
        "id": "mUKLyKc7I6Qp"
      },
      "source": [
        "import pandas as pd\n",
        "df = pd.read_csv(\"EU_M5_2017_2020.csv\")"
      ],
      "execution_count": null,
      "outputs": []
    },
    {
      "cell_type": "code",
      "metadata": {
        "colab": {
          "base_uri": "https://localhost:8080/",
          "height": 419
        },
        "id": "R96OUpVeUCEt",
        "outputId": "be5b4616-e58d-4418-b93c-07295485179f"
      },
      "source": [
        "s =int(len(df)*0.7)\n",
        "df1 =df[:s]\n",
        "df2 = df[s:]\n",
        "df1"
      ],
      "execution_count": null,
      "outputs": [
        {
          "output_type": "execute_result",
          "data": {
            "text/html": [
              "<div>\n",
              "<style scoped>\n",
              "    .dataframe tbody tr th:only-of-type {\n",
              "        vertical-align: middle;\n",
              "    }\n",
              "\n",
              "    .dataframe tbody tr th {\n",
              "        vertical-align: top;\n",
              "    }\n",
              "\n",
              "    .dataframe thead th {\n",
              "        text-align: right;\n",
              "    }\n",
              "</style>\n",
              "<table border=\"1\" class=\"dataframe\">\n",
              "  <thead>\n",
              "    <tr style=\"text-align: right;\">\n",
              "      <th></th>\n",
              "      <th>Gmt time</th>\n",
              "      <th>Open</th>\n",
              "      <th>High</th>\n",
              "      <th>Low</th>\n",
              "      <th>Close</th>\n",
              "      <th>Volume</th>\n",
              "    </tr>\n",
              "  </thead>\n",
              "  <tbody>\n",
              "    <tr>\n",
              "      <th>0</th>\n",
              "      <td>15.12.2017 00:00:00.000</td>\n",
              "      <td>1.17745</td>\n",
              "      <td>1.17764</td>\n",
              "      <td>1.17732</td>\n",
              "      <td>1.17749</td>\n",
              "      <td>674.72</td>\n",
              "    </tr>\n",
              "    <tr>\n",
              "      <th>1</th>\n",
              "      <td>15.12.2017 00:05:00.000</td>\n",
              "      <td>1.17749</td>\n",
              "      <td>1.17765</td>\n",
              "      <td>1.17739</td>\n",
              "      <td>1.17760</td>\n",
              "      <td>478.71</td>\n",
              "    </tr>\n",
              "    <tr>\n",
              "      <th>2</th>\n",
              "      <td>15.12.2017 00:10:00.000</td>\n",
              "      <td>1.17760</td>\n",
              "      <td>1.17783</td>\n",
              "      <td>1.17759</td>\n",
              "      <td>1.17783</td>\n",
              "      <td>478.75</td>\n",
              "    </tr>\n",
              "    <tr>\n",
              "      <th>3</th>\n",
              "      <td>15.12.2017 00:15:00.000</td>\n",
              "      <td>1.17784</td>\n",
              "      <td>1.17804</td>\n",
              "      <td>1.17779</td>\n",
              "      <td>1.17784</td>\n",
              "      <td>396.89</td>\n",
              "    </tr>\n",
              "    <tr>\n",
              "      <th>4</th>\n",
              "      <td>15.12.2017 00:20:00.000</td>\n",
              "      <td>1.17789</td>\n",
              "      <td>1.17804</td>\n",
              "      <td>1.17772</td>\n",
              "      <td>1.17787</td>\n",
              "      <td>498.75</td>\n",
              "    </tr>\n",
              "    <tr>\n",
              "      <th>...</th>\n",
              "      <td>...</td>\n",
              "      <td>...</td>\n",
              "      <td>...</td>\n",
              "      <td>...</td>\n",
              "      <td>...</td>\n",
              "      <td>...</td>\n",
              "    </tr>\n",
              "    <tr>\n",
              "      <th>156442</th>\n",
              "      <td>22.01.2020 01:20:00.000</td>\n",
              "      <td>1.10807</td>\n",
              "      <td>1.10812</td>\n",
              "      <td>1.10804</td>\n",
              "      <td>1.10806</td>\n",
              "      <td>184.19</td>\n",
              "    </tr>\n",
              "    <tr>\n",
              "      <th>156443</th>\n",
              "      <td>22.01.2020 01:25:00.000</td>\n",
              "      <td>1.10806</td>\n",
              "      <td>1.10808</td>\n",
              "      <td>1.10802</td>\n",
              "      <td>1.10802</td>\n",
              "      <td>147.53</td>\n",
              "    </tr>\n",
              "    <tr>\n",
              "      <th>156444</th>\n",
              "      <td>22.01.2020 01:30:00.000</td>\n",
              "      <td>1.10802</td>\n",
              "      <td>1.10802</td>\n",
              "      <td>1.10776</td>\n",
              "      <td>1.10802</td>\n",
              "      <td>376.86</td>\n",
              "    </tr>\n",
              "    <tr>\n",
              "      <th>156445</th>\n",
              "      <td>22.01.2020 01:35:00.000</td>\n",
              "      <td>1.10802</td>\n",
              "      <td>1.10819</td>\n",
              "      <td>1.10802</td>\n",
              "      <td>1.10819</td>\n",
              "      <td>239.66</td>\n",
              "    </tr>\n",
              "    <tr>\n",
              "      <th>156446</th>\n",
              "      <td>22.01.2020 01:40:00.000</td>\n",
              "      <td>1.10819</td>\n",
              "      <td>1.10820</td>\n",
              "      <td>1.10805</td>\n",
              "      <td>1.10806</td>\n",
              "      <td>160.27</td>\n",
              "    </tr>\n",
              "  </tbody>\n",
              "</table>\n",
              "<p>156447 rows × 6 columns</p>\n",
              "</div>"
            ],
            "text/plain": [
              "                       Gmt time     Open     High      Low    Close  Volume\n",
              "0       15.12.2017 00:00:00.000  1.17745  1.17764  1.17732  1.17749  674.72\n",
              "1       15.12.2017 00:05:00.000  1.17749  1.17765  1.17739  1.17760  478.71\n",
              "2       15.12.2017 00:10:00.000  1.17760  1.17783  1.17759  1.17783  478.75\n",
              "3       15.12.2017 00:15:00.000  1.17784  1.17804  1.17779  1.17784  396.89\n",
              "4       15.12.2017 00:20:00.000  1.17789  1.17804  1.17772  1.17787  498.75\n",
              "...                         ...      ...      ...      ...      ...     ...\n",
              "156442  22.01.2020 01:20:00.000  1.10807  1.10812  1.10804  1.10806  184.19\n",
              "156443  22.01.2020 01:25:00.000  1.10806  1.10808  1.10802  1.10802  147.53\n",
              "156444  22.01.2020 01:30:00.000  1.10802  1.10802  1.10776  1.10802  376.86\n",
              "156445  22.01.2020 01:35:00.000  1.10802  1.10819  1.10802  1.10819  239.66\n",
              "156446  22.01.2020 01:40:00.000  1.10819  1.10820  1.10805  1.10806  160.27\n",
              "\n",
              "[156447 rows x 6 columns]"
            ]
          },
          "metadata": {
            "tags": []
          },
          "execution_count": 22
        }
      ]
    },
    {
      "cell_type": "code",
      "metadata": {
        "colab": {
          "base_uri": "https://localhost:8080/",
          "height": 419
        },
        "id": "lIaEKipnVymS",
        "outputId": "d6d638b4-80b3-4348-9ac6-86138ebc613d"
      },
      "source": [
        "df2"
      ],
      "execution_count": null,
      "outputs": [
        {
          "output_type": "execute_result",
          "data": {
            "text/html": [
              "<div>\n",
              "<style scoped>\n",
              "    .dataframe tbody tr th:only-of-type {\n",
              "        vertical-align: middle;\n",
              "    }\n",
              "\n",
              "    .dataframe tbody tr th {\n",
              "        vertical-align: top;\n",
              "    }\n",
              "\n",
              "    .dataframe thead th {\n",
              "        text-align: right;\n",
              "    }\n",
              "</style>\n",
              "<table border=\"1\" class=\"dataframe\">\n",
              "  <thead>\n",
              "    <tr style=\"text-align: right;\">\n",
              "      <th></th>\n",
              "      <th>Gmt time</th>\n",
              "      <th>Open</th>\n",
              "      <th>High</th>\n",
              "      <th>Low</th>\n",
              "      <th>Close</th>\n",
              "      <th>Volume</th>\n",
              "    </tr>\n",
              "  </thead>\n",
              "  <tbody>\n",
              "    <tr>\n",
              "      <th>156447</th>\n",
              "      <td>22.01.2020 01:45:00.000</td>\n",
              "      <td>1.10807</td>\n",
              "      <td>1.10823</td>\n",
              "      <td>1.10802</td>\n",
              "      <td>1.10813</td>\n",
              "      <td>251.29</td>\n",
              "    </tr>\n",
              "    <tr>\n",
              "      <th>156448</th>\n",
              "      <td>22.01.2020 01:50:00.000</td>\n",
              "      <td>1.10814</td>\n",
              "      <td>1.10818</td>\n",
              "      <td>1.10807</td>\n",
              "      <td>1.10807</td>\n",
              "      <td>362.21</td>\n",
              "    </tr>\n",
              "    <tr>\n",
              "      <th>156449</th>\n",
              "      <td>22.01.2020 01:55:00.000</td>\n",
              "      <td>1.10808</td>\n",
              "      <td>1.10818</td>\n",
              "      <td>1.10805</td>\n",
              "      <td>1.10818</td>\n",
              "      <td>212.62</td>\n",
              "    </tr>\n",
              "    <tr>\n",
              "      <th>156450</th>\n",
              "      <td>22.01.2020 02:00:00.000</td>\n",
              "      <td>1.10818</td>\n",
              "      <td>1.10818</td>\n",
              "      <td>1.10811</td>\n",
              "      <td>1.10818</td>\n",
              "      <td>221.72</td>\n",
              "    </tr>\n",
              "    <tr>\n",
              "      <th>156451</th>\n",
              "      <td>22.01.2020 02:05:00.000</td>\n",
              "      <td>1.10817</td>\n",
              "      <td>1.10823</td>\n",
              "      <td>1.10794</td>\n",
              "      <td>1.10797</td>\n",
              "      <td>298.62</td>\n",
              "    </tr>\n",
              "    <tr>\n",
              "      <th>...</th>\n",
              "      <td>...</td>\n",
              "      <td>...</td>\n",
              "      <td>...</td>\n",
              "      <td>...</td>\n",
              "      <td>...</td>\n",
              "      <td>...</td>\n",
              "    </tr>\n",
              "    <tr>\n",
              "      <th>223492</th>\n",
              "      <td>11.12.2020 21:35:00.000</td>\n",
              "      <td>1.21151</td>\n",
              "      <td>1.21153</td>\n",
              "      <td>1.21143</td>\n",
              "      <td>1.21145</td>\n",
              "      <td>101.22</td>\n",
              "    </tr>\n",
              "    <tr>\n",
              "      <th>223493</th>\n",
              "      <td>11.12.2020 21:40:00.000</td>\n",
              "      <td>1.21145</td>\n",
              "      <td>1.21151</td>\n",
              "      <td>1.21142</td>\n",
              "      <td>1.21145</td>\n",
              "      <td>189.38</td>\n",
              "    </tr>\n",
              "    <tr>\n",
              "      <th>223494</th>\n",
              "      <td>11.12.2020 21:45:00.000</td>\n",
              "      <td>1.21148</td>\n",
              "      <td>1.21159</td>\n",
              "      <td>1.21113</td>\n",
              "      <td>1.21142</td>\n",
              "      <td>1439.78</td>\n",
              "    </tr>\n",
              "    <tr>\n",
              "      <th>223495</th>\n",
              "      <td>11.12.2020 21:50:00.000</td>\n",
              "      <td>1.21143</td>\n",
              "      <td>1.21145</td>\n",
              "      <td>1.21104</td>\n",
              "      <td>1.21125</td>\n",
              "      <td>3560.32</td>\n",
              "    </tr>\n",
              "    <tr>\n",
              "      <th>223496</th>\n",
              "      <td>11.12.2020 21:55:00.000</td>\n",
              "      <td>1.21125</td>\n",
              "      <td>1.21139</td>\n",
              "      <td>1.21074</td>\n",
              "      <td>1.21086</td>\n",
              "      <td>2910.94</td>\n",
              "    </tr>\n",
              "  </tbody>\n",
              "</table>\n",
              "<p>67050 rows × 6 columns</p>\n",
              "</div>"
            ],
            "text/plain": [
              "                       Gmt time     Open     High      Low    Close   Volume\n",
              "156447  22.01.2020 01:45:00.000  1.10807  1.10823  1.10802  1.10813   251.29\n",
              "156448  22.01.2020 01:50:00.000  1.10814  1.10818  1.10807  1.10807   362.21\n",
              "156449  22.01.2020 01:55:00.000  1.10808  1.10818  1.10805  1.10818   212.62\n",
              "156450  22.01.2020 02:00:00.000  1.10818  1.10818  1.10811  1.10818   221.72\n",
              "156451  22.01.2020 02:05:00.000  1.10817  1.10823  1.10794  1.10797   298.62\n",
              "...                         ...      ...      ...      ...      ...      ...\n",
              "223492  11.12.2020 21:35:00.000  1.21151  1.21153  1.21143  1.21145   101.22\n",
              "223493  11.12.2020 21:40:00.000  1.21145  1.21151  1.21142  1.21145   189.38\n",
              "223494  11.12.2020 21:45:00.000  1.21148  1.21159  1.21113  1.21142  1439.78\n",
              "223495  11.12.2020 21:50:00.000  1.21143  1.21145  1.21104  1.21125  3560.32\n",
              "223496  11.12.2020 21:55:00.000  1.21125  1.21139  1.21074  1.21086  2910.94\n",
              "\n",
              "[67050 rows x 6 columns]"
            ]
          },
          "metadata": {
            "tags": []
          },
          "execution_count": 23
        }
      ]
    },
    {
      "cell_type": "markdown",
      "metadata": {
        "id": "XwCZpdowXK3z"
      },
      "source": [
        "# RL Agent"
      ]
    },
    {
      "cell_type": "code",
      "metadata": {
        "id": "0Mei8ek7XS6g"
      },
      "source": [
        "import tensorflow as tf\n",
        "import numpy as np\n",
        "import random\n",
        "from collections import deque\n",
        "\n",
        "gpus = tf.config.experimental.list_physical_devices('GPU')\n",
        "tf.config.experimental.set_memory_growth(gpus[0], True)\n",
        "\n",
        "\n",
        "class Agent:\n",
        "    def __init__(self, state_size, is_eval=False, model_name=\"\"):\n",
        "        self.state_size = state_size\n",
        "        self.action_size = 3  # sit, long, short\n",
        "        self.memory = deque(maxlen=1000)\n",
        "        self.in_trade = False\n",
        "        self.is_eval = is_eval\n",
        "\n",
        "        self.gamma = 0.95\n",
        "        self.epsilon = 1.0\n",
        "        self.epsilon_min = 0.01\n",
        "        self.epsilon_decay = 0.995\n",
        "\n",
        "        self.model_name = model_name\n",
        "        if is_eval:\n",
        "            tf.keras.models.load_model(model_name)\n",
        "        else:\n",
        "            self.model = self.build_actor()\n",
        "\n",
        "    def build_actor(self):\n",
        "\n",
        "        model = tf.keras.models.Sequential()\n",
        "        model.add(tf.keras.layers.LSTM(512, input_shape=(self.state_size, 4)))\n",
        "        model.add(tf.keras.layers.Dense(self.action_size, activation='linear'))\n",
        "        opt = tf.keras.optimizers.Adam(learning_rate=0.000001)\n",
        "        model.compile(loss='mse', optimizer=opt)\n",
        "\n",
        "        return model\n",
        "\n",
        "    def act(self, state):\n",
        "        if not self.is_eval and random.random() <= self.epsilon:\n",
        "            return random.randrange(self.action_size)\n",
        "\n",
        "        state = state.reshape(1, self.state_size, 4)\n",
        "        options = self.model.predict(state)\n",
        "        return np.argmax(options[0])\n",
        "\n",
        "    def expReplay(self, batchsize):\n",
        "        mini_batch = random.sample(self.memory, batchsize)\n",
        "\n",
        "        for state, action, reward, next_state, done in mini_batch:\n",
        "            next_state = next_state.reshape(1, self.state_size, 4)\n",
        "            state = state.reshape(1, self.state_size, 4)\n",
        "\n",
        "            if not done:\n",
        "                target = reward + self.gamma * np.amax(self.model.predict(next_state)[0])\n",
        "            else:\n",
        "                target = reward\n",
        "\n",
        "            target_f = self.model.predict(state)\n",
        "            \n",
        "            target_f[0][action] = target\n",
        "            \n",
        "            self.model.fit(state, target_f, epochs=1, verbose=0)\n",
        "\n",
        "        if self.epsilon > self.epsilon_min:\n",
        "            self.epsilon *= self.epsilon_decay\n"
      ],
      "execution_count": null,
      "outputs": []
    },
    {
      "cell_type": "markdown",
      "metadata": {
        "id": "8eYBYTVLfIpf"
      },
      "source": [
        ""
      ]
    },
    {
      "cell_type": "markdown",
      "metadata": {
        "id": "gTI5BCzDXXQb"
      },
      "source": [
        "# RL Train"
      ]
    },
    {
      "cell_type": "code",
      "metadata": {
        "colab": {
          "base_uri": "https://localhost:8080/",
          "height": 442
        },
        "id": "ovTKPpX8YYmX",
        "outputId": "0fd03b1e-a401-49c1-f110-aac484e2adb6"
      },
      "source": [
        "import numpy as np\n",
        "from tqdm import tqdm\n",
        "import pandas as pd\n",
        "\n",
        "def getState(data, start, window):\n",
        "    result = data[start:start + window]\n",
        "    return np.array(result)\n",
        "\n",
        "\n",
        "def evalTrade(a, tr, next_step):\n",
        "    if tr[0] == 1:  # LONG\n",
        "        if next_step[-1][1] >= tr[3]:  # TP\n",
        "            r = 1\n",
        "            a.in_trade = False\n",
        "            return [1, r]\n",
        "\n",
        "        elif next_step[-1][3] <= tr[2]:  # SL\n",
        "            r = -1\n",
        "            a.in_trade = False\n",
        "            return [1, r]\n",
        "\n",
        "    elif tr[0] == 2:  # SHORT\n",
        "        if next_step[-1][3] <= tr[3]:  # TP\n",
        "            r = 1\n",
        "            a.in_trade = False\n",
        "            return [2, r]\n",
        "\n",
        "        elif next_step[-1][1] >= tr[2]:  # SL\n",
        "            r = -1\n",
        "            a.in_trade = False\n",
        "            return [2, r]\n",
        "    return [0, 0]\n",
        "\n",
        "def evalPass(current, next):\n",
        "    # Reward pass if action prevented SL\n",
        "    long = takeTrade(1, current[-1])\n",
        "    short = takeTrade(2, current[-1])\n",
        "    if long[2] >= next[-1][3] or short[2] <= next[-1][1]:\n",
        "        return 0.1\n",
        "    return 0\n",
        "\n",
        "\n",
        "def invScale(data, minimum, maximum):\n",
        "    return data * (maximum - minimum) + minimum\n",
        "\n",
        "\n",
        "def takeTrade(action, ohlc):\n",
        "    unscaled_close = invScale(ohlc, data_min, data_max)[3]\n",
        "    close = ohlc[3]\n",
        "\n",
        "    if action == 1:  # (long/short, entry, SL, TP)\n",
        "        sl = (unscaled_close - 0.0010 - data_min) / (data_max - data_min)\n",
        "        tp = (unscaled_close + 0.0030 - data_min) / (data_max - data_min)\n",
        "        return action, close, sl, tp\n",
        "\n",
        "    elif action == 2:\n",
        "        sl = (unscaled_close + 0.0010 - data_min) / (data_max - data_min)\n",
        "        tp = (unscaled_close - 0.0030 - data_min) / (data_max - data_min)\n",
        "        return action, close, sl, tp\n",
        "\n",
        "\n",
        "df = pd.read_csv('EU_M5_2017_2020.csv',\n",
        "                 index_col='Local time',\n",
        "                 parse_dates=True,\n",
        "                 skiprows=1,\n",
        "                 nrows=5000,\n",
        "                 names=['Local time', 'Open', 'High', 'Low', 'Close', 'Volume'])\n",
        "df = df.drop('Volume', 1)\n",
        "\n",
        "s = int(len(df))\n",
        "df = df[:s]\n",
        "\n",
        "data_max = df['High'].max()\n",
        "data_min = df['Low'].min()\n",
        "df = np.array(df)\n",
        "df = (df - data_min) / (data_max - data_min)\n",
        "\n",
        "MIN_MEM_SIZE = 128\n",
        "BATCH_SIZE = 64\n",
        "WINDOW_SIZE = 90\n",
        "EPISODE_LENGTH = len(df) - WINDOW_SIZE\n",
        "ACTIONS = ['PASS', 'LONG', 'SHORT']\n",
        "\n",
        "agent = Agent(WINDOW_SIZE)\n",
        "win, loss = 0, 0\n",
        "\n",
        "loop = tqdm(total=EPISODE_LENGTH, position=0, leave=False)\n",
        "for ep in range(10):\n",
        "\n",
        "    print('starting ep ', ep)\n",
        "    ret = 0\n",
        "\n",
        "    for t in range(EPISODE_LENGTH):\n",
        "        loop.set_description('Training ...'.format(t))\n",
        "        loop.update(1)\n",
        "\n",
        "        done = False\n",
        "        if t == 0:\n",
        "            state = getState(df, t, WINDOW_SIZE)  # (90, 4) size\n",
        "\n",
        "        close = state[-1][3]\n",
        "        reward = 0\n",
        "        if not agent.in_trade:\n",
        "            action = agent.act(state)\n",
        "\n",
        "            if action == 1:\n",
        "                trade = takeTrade(action, state[-1])\n",
        "                entry_state = state\n",
        "                entry_t = t\n",
        "                agent.in_trade = True\n",
        "                print(f'--t:{t} OPEN {ACTIONS[action]} --')\n",
        "\n",
        "            elif action == 2:\n",
        "                trade = takeTrade(action, state[-1])\n",
        "                entry_state = state\n",
        "                entry_t = t\n",
        "                agent.in_trade = True\n",
        "                print(f'--t:{t} OPEN {ACTIONS[action]} --')\n",
        "\n",
        "        next_state = getState(df, t + 1, WINDOW_SIZE)\n",
        "\n",
        "        if agent.in_trade:\n",
        "            result = evalTrade(agent, trade, next_state)\n",
        "            if result[1] != 0:\n",
        "                if result[1] >= 0:\n",
        "                    win += 1\n",
        "                    ret += 3\n",
        "                else:\n",
        "                    loss += 1\n",
        "                    ret -= 1\n",
        "                reward += result[1]\n",
        "                agent.memory.append((entry_state, action, reward, next_state, done))\n",
        "\n",
        "                #print(f'--t:{t + 1} CLOSING {ACTIONS[result[0]]} ({reward})')\n",
        "\n",
        "                if len(agent.memory) >= MIN_MEM_SIZE:\n",
        "                    print('--- Fitting new Weights ---:')\n",
        "                    agent.expReplay(BATCH_SIZE)\n",
        "\n",
        "        # Passing\n",
        "        else:\n",
        "            reward = evalPass(state, next_state)\n",
        "            print(f'--t:{t} NO TRADE ({reward})')\n",
        "            agent.memory.append((state, action, reward, next_state, done))\n",
        "            if len(agent.memory) >= MIN_MEM_SIZE:\n",
        "                print('--- Fitting new Weights ---')\n",
        "                agent.expReplay(BATCH_SIZE)\n",
        "\n",
        "        if t == EPISODE_LENGTH - 1 or ret <= -100:\n",
        "            done = True\n",
        "            agent.memory.append((state, action, reward, next_state, done))\n",
        "            state = next_state\n",
        "\n",
        "            print(f\"--- Cumulative return Episode {ep}: {ret} ---\")\n",
        "            if win + loss > 0:\n",
        "                print(f\"--- Winrate: {win / (win + loss)} ---\")\n",
        "            break\n",
        "\n",
        "        state = next_state\n",
        "\n",
        "    agent.model.save(f'episode-{ep}-trained-agent.h5')\n"
      ],
      "execution_count": null,
      "outputs": [
        {
          "output_type": "error",
          "ename": "FileNotFoundError",
          "evalue": "ignored",
          "traceback": [
            "\u001b[0;31m---------------------------------------------------------------------------\u001b[0m",
            "\u001b[0;31mFileNotFoundError\u001b[0m                         Traceback (most recent call last)",
            "\u001b[0;32m<ipython-input-2-37b4092d3f2b>\u001b[0m in \u001b[0;36m<module>\u001b[0;34m()\u001b[0m\n\u001b[1;32m     65\u001b[0m                  \u001b[0mskiprows\u001b[0m\u001b[0;34m=\u001b[0m\u001b[0;36m1\u001b[0m\u001b[0;34m,\u001b[0m\u001b[0;34m\u001b[0m\u001b[0;34m\u001b[0m\u001b[0m\n\u001b[1;32m     66\u001b[0m                  \u001b[0mnrows\u001b[0m\u001b[0;34m=\u001b[0m\u001b[0;36m5000\u001b[0m\u001b[0;34m,\u001b[0m\u001b[0;34m\u001b[0m\u001b[0;34m\u001b[0m\u001b[0m\n\u001b[0;32m---> 67\u001b[0;31m                  names=['Local time', 'Open', 'High', 'Low', 'Close', 'Volume'])\n\u001b[0m\u001b[1;32m     68\u001b[0m \u001b[0mdf\u001b[0m \u001b[0;34m=\u001b[0m \u001b[0mdf\u001b[0m\u001b[0;34m.\u001b[0m\u001b[0mdrop\u001b[0m\u001b[0;34m(\u001b[0m\u001b[0;34m'Volume'\u001b[0m\u001b[0;34m,\u001b[0m \u001b[0;36m1\u001b[0m\u001b[0;34m)\u001b[0m\u001b[0;34m\u001b[0m\u001b[0;34m\u001b[0m\u001b[0m\n\u001b[1;32m     69\u001b[0m \u001b[0;34m\u001b[0m\u001b[0m\n",
            "\u001b[0;32m/usr/local/lib/python3.7/dist-packages/pandas/io/parsers.py\u001b[0m in \u001b[0;36mread_csv\u001b[0;34m(filepath_or_buffer, sep, delimiter, header, names, index_col, usecols, squeeze, prefix, mangle_dupe_cols, dtype, engine, converters, true_values, false_values, skipinitialspace, skiprows, skipfooter, nrows, na_values, keep_default_na, na_filter, verbose, skip_blank_lines, parse_dates, infer_datetime_format, keep_date_col, date_parser, dayfirst, cache_dates, iterator, chunksize, compression, thousands, decimal, lineterminator, quotechar, quoting, doublequote, escapechar, comment, encoding, dialect, error_bad_lines, warn_bad_lines, delim_whitespace, low_memory, memory_map, float_precision)\u001b[0m\n\u001b[1;32m    686\u001b[0m     )\n\u001b[1;32m    687\u001b[0m \u001b[0;34m\u001b[0m\u001b[0m\n\u001b[0;32m--> 688\u001b[0;31m     \u001b[0;32mreturn\u001b[0m \u001b[0m_read\u001b[0m\u001b[0;34m(\u001b[0m\u001b[0mfilepath_or_buffer\u001b[0m\u001b[0;34m,\u001b[0m \u001b[0mkwds\u001b[0m\u001b[0;34m)\u001b[0m\u001b[0;34m\u001b[0m\u001b[0;34m\u001b[0m\u001b[0m\n\u001b[0m\u001b[1;32m    689\u001b[0m \u001b[0;34m\u001b[0m\u001b[0m\n\u001b[1;32m    690\u001b[0m \u001b[0;34m\u001b[0m\u001b[0m\n",
            "\u001b[0;32m/usr/local/lib/python3.7/dist-packages/pandas/io/parsers.py\u001b[0m in \u001b[0;36m_read\u001b[0;34m(filepath_or_buffer, kwds)\u001b[0m\n\u001b[1;32m    452\u001b[0m \u001b[0;34m\u001b[0m\u001b[0m\n\u001b[1;32m    453\u001b[0m     \u001b[0;31m# Create the parser.\u001b[0m\u001b[0;34m\u001b[0m\u001b[0;34m\u001b[0m\u001b[0;34m\u001b[0m\u001b[0m\n\u001b[0;32m--> 454\u001b[0;31m     \u001b[0mparser\u001b[0m \u001b[0;34m=\u001b[0m \u001b[0mTextFileReader\u001b[0m\u001b[0;34m(\u001b[0m\u001b[0mfp_or_buf\u001b[0m\u001b[0;34m,\u001b[0m \u001b[0;34m**\u001b[0m\u001b[0mkwds\u001b[0m\u001b[0;34m)\u001b[0m\u001b[0;34m\u001b[0m\u001b[0;34m\u001b[0m\u001b[0m\n\u001b[0m\u001b[1;32m    455\u001b[0m \u001b[0;34m\u001b[0m\u001b[0m\n\u001b[1;32m    456\u001b[0m     \u001b[0;32mif\u001b[0m \u001b[0mchunksize\u001b[0m \u001b[0;32mor\u001b[0m \u001b[0miterator\u001b[0m\u001b[0;34m:\u001b[0m\u001b[0;34m\u001b[0m\u001b[0;34m\u001b[0m\u001b[0m\n",
            "\u001b[0;32m/usr/local/lib/python3.7/dist-packages/pandas/io/parsers.py\u001b[0m in \u001b[0;36m__init__\u001b[0;34m(self, f, engine, **kwds)\u001b[0m\n\u001b[1;32m    946\u001b[0m             \u001b[0mself\u001b[0m\u001b[0;34m.\u001b[0m\u001b[0moptions\u001b[0m\u001b[0;34m[\u001b[0m\u001b[0;34m\"has_index_names\"\u001b[0m\u001b[0;34m]\u001b[0m \u001b[0;34m=\u001b[0m \u001b[0mkwds\u001b[0m\u001b[0;34m[\u001b[0m\u001b[0;34m\"has_index_names\"\u001b[0m\u001b[0;34m]\u001b[0m\u001b[0;34m\u001b[0m\u001b[0;34m\u001b[0m\u001b[0m\n\u001b[1;32m    947\u001b[0m \u001b[0;34m\u001b[0m\u001b[0m\n\u001b[0;32m--> 948\u001b[0;31m         \u001b[0mself\u001b[0m\u001b[0;34m.\u001b[0m\u001b[0m_make_engine\u001b[0m\u001b[0;34m(\u001b[0m\u001b[0mself\u001b[0m\u001b[0;34m.\u001b[0m\u001b[0mengine\u001b[0m\u001b[0;34m)\u001b[0m\u001b[0;34m\u001b[0m\u001b[0;34m\u001b[0m\u001b[0m\n\u001b[0m\u001b[1;32m    949\u001b[0m \u001b[0;34m\u001b[0m\u001b[0m\n\u001b[1;32m    950\u001b[0m     \u001b[0;32mdef\u001b[0m \u001b[0mclose\u001b[0m\u001b[0;34m(\u001b[0m\u001b[0mself\u001b[0m\u001b[0;34m)\u001b[0m\u001b[0;34m:\u001b[0m\u001b[0;34m\u001b[0m\u001b[0;34m\u001b[0m\u001b[0m\n",
            "\u001b[0;32m/usr/local/lib/python3.7/dist-packages/pandas/io/parsers.py\u001b[0m in \u001b[0;36m_make_engine\u001b[0;34m(self, engine)\u001b[0m\n\u001b[1;32m   1178\u001b[0m     \u001b[0;32mdef\u001b[0m \u001b[0m_make_engine\u001b[0m\u001b[0;34m(\u001b[0m\u001b[0mself\u001b[0m\u001b[0;34m,\u001b[0m \u001b[0mengine\u001b[0m\u001b[0;34m=\u001b[0m\u001b[0;34m\"c\"\u001b[0m\u001b[0;34m)\u001b[0m\u001b[0;34m:\u001b[0m\u001b[0;34m\u001b[0m\u001b[0;34m\u001b[0m\u001b[0m\n\u001b[1;32m   1179\u001b[0m         \u001b[0;32mif\u001b[0m \u001b[0mengine\u001b[0m \u001b[0;34m==\u001b[0m \u001b[0;34m\"c\"\u001b[0m\u001b[0;34m:\u001b[0m\u001b[0;34m\u001b[0m\u001b[0;34m\u001b[0m\u001b[0m\n\u001b[0;32m-> 1180\u001b[0;31m             \u001b[0mself\u001b[0m\u001b[0;34m.\u001b[0m\u001b[0m_engine\u001b[0m \u001b[0;34m=\u001b[0m \u001b[0mCParserWrapper\u001b[0m\u001b[0;34m(\u001b[0m\u001b[0mself\u001b[0m\u001b[0;34m.\u001b[0m\u001b[0mf\u001b[0m\u001b[0;34m,\u001b[0m \u001b[0;34m**\u001b[0m\u001b[0mself\u001b[0m\u001b[0;34m.\u001b[0m\u001b[0moptions\u001b[0m\u001b[0;34m)\u001b[0m\u001b[0;34m\u001b[0m\u001b[0;34m\u001b[0m\u001b[0m\n\u001b[0m\u001b[1;32m   1181\u001b[0m         \u001b[0;32melse\u001b[0m\u001b[0;34m:\u001b[0m\u001b[0;34m\u001b[0m\u001b[0;34m\u001b[0m\u001b[0m\n\u001b[1;32m   1182\u001b[0m             \u001b[0;32mif\u001b[0m \u001b[0mengine\u001b[0m \u001b[0;34m==\u001b[0m \u001b[0;34m\"python\"\u001b[0m\u001b[0;34m:\u001b[0m\u001b[0;34m\u001b[0m\u001b[0;34m\u001b[0m\u001b[0m\n",
            "\u001b[0;32m/usr/local/lib/python3.7/dist-packages/pandas/io/parsers.py\u001b[0m in \u001b[0;36m__init__\u001b[0;34m(self, src, **kwds)\u001b[0m\n\u001b[1;32m   2008\u001b[0m         \u001b[0mkwds\u001b[0m\u001b[0;34m[\u001b[0m\u001b[0;34m\"usecols\"\u001b[0m\u001b[0;34m]\u001b[0m \u001b[0;34m=\u001b[0m \u001b[0mself\u001b[0m\u001b[0;34m.\u001b[0m\u001b[0musecols\u001b[0m\u001b[0;34m\u001b[0m\u001b[0;34m\u001b[0m\u001b[0m\n\u001b[1;32m   2009\u001b[0m \u001b[0;34m\u001b[0m\u001b[0m\n\u001b[0;32m-> 2010\u001b[0;31m         \u001b[0mself\u001b[0m\u001b[0;34m.\u001b[0m\u001b[0m_reader\u001b[0m \u001b[0;34m=\u001b[0m \u001b[0mparsers\u001b[0m\u001b[0;34m.\u001b[0m\u001b[0mTextReader\u001b[0m\u001b[0;34m(\u001b[0m\u001b[0msrc\u001b[0m\u001b[0;34m,\u001b[0m \u001b[0;34m**\u001b[0m\u001b[0mkwds\u001b[0m\u001b[0;34m)\u001b[0m\u001b[0;34m\u001b[0m\u001b[0;34m\u001b[0m\u001b[0m\n\u001b[0m\u001b[1;32m   2011\u001b[0m         \u001b[0mself\u001b[0m\u001b[0;34m.\u001b[0m\u001b[0munnamed_cols\u001b[0m \u001b[0;34m=\u001b[0m \u001b[0mself\u001b[0m\u001b[0;34m.\u001b[0m\u001b[0m_reader\u001b[0m\u001b[0;34m.\u001b[0m\u001b[0munnamed_cols\u001b[0m\u001b[0;34m\u001b[0m\u001b[0;34m\u001b[0m\u001b[0m\n\u001b[1;32m   2012\u001b[0m \u001b[0;34m\u001b[0m\u001b[0m\n",
            "\u001b[0;32mpandas/_libs/parsers.pyx\u001b[0m in \u001b[0;36mpandas._libs.parsers.TextReader.__cinit__\u001b[0;34m()\u001b[0m\n",
            "\u001b[0;32mpandas/_libs/parsers.pyx\u001b[0m in \u001b[0;36mpandas._libs.parsers.TextReader._setup_parser_source\u001b[0;34m()\u001b[0m\n",
            "\u001b[0;31mFileNotFoundError\u001b[0m: [Errno 2] No such file or directory: 'EU_M5_2017_2020.csv'"
          ]
        }
      ]
    }
  ]
}